{
 "cells": [
  {
   "cell_type": "code",
   "execution_count": 1,
   "id": "11e2d48e",
   "metadata": {},
   "outputs": [
    {
     "name": "stderr",
     "output_type": "stream",
     "text": [
      "Cloning into 'Kaggle'...\n",
      "warning: You appear to have cloned an empty repository.\n"
     ]
    }
   ],
   "source": [
    "# !git clone https://github.com/swwho96/Kaggle.git"
   ]
  },
  {
   "cell_type": "code",
   "execution_count": 3,
   "id": "919d2352",
   "metadata": {},
   "outputs": [
    {
     "name": "stdout",
     "output_type": "stream",
     "text": [
      "Reinitialized existing Git repository in C:/Users/swwho/Desktop/Kaggle/.git/\n"
     ]
    }
   ],
   "source": [
    "# !git init"
   ]
  },
  {
   "cell_type": "code",
   "execution_count": 5,
   "id": "f8eb90cf",
   "metadata": {},
   "outputs": [],
   "source": [
    "# !echo \"# Kaggle\" >> README.md"
   ]
  },
  {
   "cell_type": "code",
   "execution_count": 6,
   "id": "eb536639",
   "metadata": {},
   "outputs": [
    {
     "name": "stdout",
     "output_type": "stream",
     "text": [
      "['main' (root-commit) 02a02b8] first commit\n",
      " 1 file changed, 1 insertion(+)\n",
      " create mode 100644 README.md\n"
     ]
    },
    {
     "name": "stderr",
     "output_type": "stream",
     "text": [
      "error: remote origin already exists.\n"
     ]
    },
    {
     "name": "stdout",
     "output_type": "stream",
     "text": [
      "branch ''main'' set up to track 'origin/'main''.\n"
     ]
    },
    {
     "name": "stderr",
     "output_type": "stream",
     "text": [
      "To https://github.com/swwho96/Kaggle.git\n",
      " * [new branch]      'main' -> 'main'\n"
     ]
    }
   ],
   "source": [
    "# !git add README.md\n",
    "# !git commit -m \"first commit\"\n",
    "# !git branch -M 'main'\n",
    "# !git remote add origin https://github.com/swwho96/Kaggle.git\n",
    "# !git push -u origin 'main'"
   ]
  },
  {
   "cell_type": "code",
   "execution_count": 7,
   "id": "4ab7ee85",
   "metadata": {
    "scrolled": true
   },
   "outputs": [
    {
     "name": "stderr",
     "output_type": "stream",
     "text": [
      "warning: LF will be replaced by CRLF in .ipynb_checkpoints/kaggle_setup-checkpoint.ipynb.\n",
      "The file will have its original line endings in your working directory\n",
      "error: 'Kaggle/' does not have a commit checked out\n",
      "fatal: adding files failed\n"
     ]
    }
   ],
   "source": [
    "!git add ."
   ]
  }
 ],
 "metadata": {
  "kernelspec": {
   "display_name": "Python 3 (ipykernel)",
   "language": "python",
   "name": "python3"
  },
  "language_info": {
   "codemirror_mode": {
    "name": "ipython",
    "version": 3
   },
   "file_extension": ".py",
   "mimetype": "text/x-python",
   "name": "python",
   "nbconvert_exporter": "python",
   "pygments_lexer": "ipython3",
   "version": "3.9.12"
  }
 },
 "nbformat": 4,
 "nbformat_minor": 5
}
